{
 "cells": [
  {
   "cell_type": "code",
   "execution_count": 300,
   "metadata": {},
   "outputs": [],
   "source": [
    "import torch.nn as nn\n",
    "import torch\n",
    "from torchvision import datasets, transforms\n",
    "from torch.utils.data import DataLoader, random_split\n"
   ]
  },
  {
   "cell_type": "markdown",
   "metadata": {},
   "source": [
    "Load Dataset"
   ]
  },
  {
   "cell_type": "code",
   "execution_count": 301,
   "metadata": {},
   "outputs": [],
   "source": [
    "transform = transforms.Compose([\n",
    "    transforms.Resize((32,32)),\n",
    "    transforms.ToTensor()\n",
    "])\n",
    "\n",
    "#lung_dataset = datasets.ImageFolder('/home/hampus/dev/bioinformatics/lung_colon_image_set/lung_image_sets',transform=transform)\n",
    "lung_dataset = datasets.ImageFolder('/home/hampus/dev/bioinformatics/lung_colon_image_set/test',transform=transform)"
   ]
  },
  {
   "cell_type": "code",
   "execution_count": 302,
   "metadata": {},
   "outputs": [
    {
     "name": "stdout",
     "output_type": "stream",
     "text": [
      "/home/hampus/dev/bioinformatics\n"
     ]
    }
   ],
   "source": [
    "from pathlib import Path\n",
    "current_file_directory = Path('cnn.ipynb').resolve().parent\n",
    "\n",
    "print(current_file_directory)"
   ]
  },
  {
   "cell_type": "code",
   "execution_count": 303,
   "metadata": {},
   "outputs": [
    {
     "name": "stdout",
     "output_type": "stream",
     "text": [
      "{'aca': 0, 'n': 1, 'scc': 2}\n"
     ]
    }
   ],
   "source": [
    "print(lung_dataset.class_to_idx)"
   ]
  },
  {
   "cell_type": "markdown",
   "metadata": {},
   "source": [
    "Split Dataset to train and val"
   ]
  },
  {
   "cell_type": "code",
   "execution_count": 304,
   "metadata": {},
   "outputs": [
    {
     "name": "stdout",
     "output_type": "stream",
     "text": [
      "30\n"
     ]
    }
   ],
   "source": [
    "\n",
    "train_size = int(0.8 * len(lung_dataset)) # 80%\n",
    "test_val_size = (len(lung_dataset) - train_size)//2 #val and test 10% each\n",
    "print(test_val_size)\n",
    "\n",
    "train_dataset, val_dataset, test_dataset = random_split(lung_dataset, [train_size, test_val_size, test_val_size])\n",
    "\n",
    "train_loader = DataLoader(train_dataset, batch_size=32, shuffle=True)\n",
    "val_loader = DataLoader(val_dataset, batch_size=32, shuffle=False)\n",
    "test_loader = DataLoader(test_dataset, batch_size=32, shuffle=False)"
   ]
  },
  {
   "cell_type": "code",
   "execution_count": 305,
   "metadata": {},
   "outputs": [
    {
     "name": "stdout",
     "output_type": "stream",
     "text": [
      "8\n",
      "1\n",
      "1\n",
      "torch.Size([3, 32, 32])\n"
     ]
    }
   ],
   "source": [
    "print(len(train_loader))\n",
    "print(len(test_loader))\n",
    "print(len(val_loader))\n",
    "\n",
    "#for images in val_loader:\n",
    "#    pass\n",
    "\n",
    "\n",
    "images, labels = next(iter(train_loader))\n",
    "print(images[0].shape)"
   ]
  },
  {
   "cell_type": "markdown",
   "metadata": {},
   "source": [
    "Define variables"
   ]
  },
  {
   "cell_type": "code",
   "execution_count": 306,
   "metadata": {},
   "outputs": [],
   "source": [
    "num_classes = 3"
   ]
  },
  {
   "cell_type": "markdown",
   "metadata": {},
   "source": [
    "Model"
   ]
  },
  {
   "cell_type": "code",
   "execution_count": 307,
   "metadata": {},
   "outputs": [],
   "source": [
    "class CNN(nn.Module):\n",
    "    def __init__(self, num_classes):\n",
    "        super(CNN, self).__init__()\n",
    "        self.conv_layer_1 = nn.Conv2d(in_channels=3, out_channels=32, kernel_size=3)\n",
    "        self.max_pool1 = nn.MaxPool2d(3, 2)\n",
    "        self.conv_layer2 = nn.Conv2d(in_channels=32, out_channels=16, kernel_size=3)\n",
    "        self.conv_layer3 = nn.Conv2d(in_channels=16, out_channels=8, kernel_size=3)\n",
    "        self.conv_layer4 = nn.Conv2d(in_channels=8, out_channels=1, kernel_size=3)\n",
    "\n",
    "\n",
    "        self.fc1 = nn.Linear(64, 128)\n",
    "        self.relu1 = nn.ReLU()\n",
    "        self.fc2 = nn.Linear(128, num_classes)\n",
    "        self.softmax = nn.Softmax(dim=1)\n",
    "\n",
    "    def forward(self, x):\n",
    "        out = self.conv_layer_1(x)\n",
    "        out = self.max_pool1(out)\n",
    "        out = self.conv_layer2(out)\n",
    "        out = self.conv_layer3(out)\n",
    "        out = self.conv_layer4(out)\n",
    "\n",
    "        out = out.reshape(out.size(0), -1)\n",
    "        out = self.fc1(out)\n",
    "        out = self.relu1(out)\n",
    "        out = self.fc2(out)\n",
    "        return out\n",
    "\n",
    "model = CNN(num_classes=num_classes)"
   ]
  },
  {
   "cell_type": "markdown",
   "metadata": {},
   "source": [
    "HyperParameters"
   ]
  },
  {
   "cell_type": "code",
   "execution_count": 308,
   "metadata": {},
   "outputs": [],
   "source": [
    "num_epochs = 50\n",
    "criterion = nn.CrossEntropyLoss()\n",
    "optimizer = torch.optim.Adam(model.parameters(), lr=0.1)"
   ]
  },
  {
   "cell_type": "markdown",
   "metadata": {},
   "source": [
    "Train"
   ]
  },
  {
   "cell_type": "code",
   "execution_count": 311,
   "metadata": {},
   "outputs": [
    {
     "name": "stdout",
     "output_type": "stream",
     "text": [
      "Epoch [1/50], Loss: 117350.4531\n",
      "Epoch [1/50], Loss: 79363.0469\n",
      "total:  30\n",
      "correct:  15\n",
      "accuracy:  0.5\n",
      "Epoch [2/50], Loss: 97138.1953\n",
      "Epoch [2/50], Loss: 40260.3242\n",
      "total:  30\n",
      "correct:  15\n",
      "accuracy:  0.5\n",
      "Epoch [3/50], Loss: 316057.1562\n",
      "Epoch [3/50], Loss: 249449.8906\n",
      "total:  30\n",
      "correct:  7\n",
      "accuracy:  0.23333333333333334\n",
      "Epoch [4/50], Loss: 1.0654\n",
      "Epoch [4/50], Loss: 1.2196\n",
      "total:  30\n",
      "correct:  8\n",
      "accuracy:  0.26666666666666666\n",
      "Epoch [5/50], Loss: 992312.5000\n",
      "Epoch [5/50], Loss: 326370.3125\n",
      "total:  30\n",
      "correct:  7\n",
      "accuracy:  0.23333333333333334\n",
      "Epoch [6/50], Loss: 2005987.2500\n",
      "Epoch [6/50], Loss: 727261.8125\n",
      "total:  30\n",
      "correct:  8\n",
      "accuracy:  0.26666666666666666\n",
      "Epoch [7/50], Loss: 4921587.0000\n",
      "Epoch [7/50], Loss: 553135.1250\n",
      "total:  30\n",
      "correct:  15\n",
      "accuracy:  0.5\n",
      "Epoch [8/50], Loss: 185946624.0000\n",
      "Epoch [8/50], Loss: 72653832.0000\n",
      "total:  30\n",
      "correct:  8\n",
      "accuracy:  0.26666666666666666\n",
      "Epoch [9/50], Loss: 182792816.0000\n",
      "Epoch [9/50], Loss: 49938192.0000\n",
      "total:  30\n",
      "correct:  15\n",
      "accuracy:  0.5\n",
      "Epoch [10/50], Loss: 111884056.0000\n",
      "Epoch [10/50], Loss: 129023776.0000\n",
      "total:  30\n",
      "correct:  15\n",
      "accuracy:  0.5\n",
      "Epoch [11/50], Loss: 163577696.0000\n",
      "Epoch [11/50], Loss: 186246128.0000\n",
      "total:  30\n",
      "correct:  8\n",
      "accuracy:  0.26666666666666666\n",
      "Epoch [12/50], Loss: 200924128.0000\n",
      "Epoch [12/50], Loss: 74060456.0000\n",
      "total:  30\n",
      "correct:  8\n",
      "accuracy:  0.26666666666666666\n",
      "Epoch [13/50], Loss: 40662408.0000\n",
      "Epoch [13/50], Loss: 68387680.0000\n",
      "total:  30\n",
      "correct:  7\n",
      "accuracy:  0.23333333333333334\n",
      "Epoch [14/50], Loss: 98734304.0000\n",
      "Epoch [14/50], Loss: 49991596.0000\n",
      "total:  30\n",
      "correct:  8\n",
      "accuracy:  0.26666666666666666\n",
      "Epoch [15/50], Loss: 229213312.0000\n",
      "Epoch [15/50], Loss: 116470032.0000\n",
      "total:  30\n",
      "correct:  8\n",
      "accuracy:  0.26666666666666666\n",
      "Epoch [16/50], Loss: 51198604.0000\n",
      "Epoch [16/50], Loss: 59163332.0000\n",
      "total:  30\n",
      "correct:  7\n",
      "accuracy:  0.23333333333333334\n",
      "Epoch [17/50], Loss: 43817248.0000\n",
      "Epoch [17/50], Loss: 58529716.0000\n",
      "total:  30\n",
      "correct:  15\n",
      "accuracy:  0.5\n",
      "Epoch [18/50], Loss: 4145569.5000\n",
      "Epoch [18/50], Loss: 519323.2812\n",
      "total:  30\n",
      "correct:  8\n",
      "accuracy:  0.26666666666666666\n",
      "Epoch [19/50], Loss: 58.5610\n",
      "Epoch [19/50], Loss: 1.4242\n",
      "total:  30\n",
      "correct:  7\n",
      "accuracy:  0.23333333333333334\n",
      "Epoch [20/50], Loss: 1.1617\n",
      "Epoch [20/50], Loss: 1.2714\n",
      "total:  30\n",
      "correct:  7\n",
      "accuracy:  0.23333333333333334\n",
      "Epoch [21/50], Loss: 1.1672\n",
      "Epoch [21/50], Loss: 1.1760\n",
      "total:  30\n",
      "correct:  7\n",
      "accuracy:  0.23333333333333334\n",
      "Epoch [22/50], Loss: 1.0976\n",
      "Epoch [22/50], Loss: 1.1266\n",
      "total:  30\n",
      "correct:  8\n",
      "accuracy:  0.26666666666666666\n",
      "Epoch [23/50], Loss: 1.1311\n",
      "Epoch [23/50], Loss: 1.1061\n",
      "total:  30\n",
      "correct:  8\n",
      "accuracy:  0.26666666666666666\n",
      "Epoch [24/50], Loss: 1.0947\n",
      "Epoch [24/50], Loss: 1.1027\n",
      "total:  30\n",
      "correct:  8\n",
      "accuracy:  0.26666666666666666\n",
      "Epoch [25/50], Loss: 1.0924\n",
      "Epoch [25/50], Loss: 1.1066\n",
      "total:  30\n",
      "correct:  8\n",
      "accuracy:  0.26666666666666666\n",
      "Epoch [26/50], Loss: 1.0972\n",
      "Epoch [26/50], Loss: 1.1216\n",
      "total:  30\n",
      "correct:  7\n",
      "accuracy:  0.23333333333333334\n",
      "Epoch [27/50], Loss: 1.0904\n",
      "Epoch [27/50], Loss: 1.1250\n",
      "total:  30\n",
      "correct:  7\n",
      "accuracy:  0.23333333333333334\n",
      "Epoch [28/50], Loss: 1.0955\n",
      "Epoch [28/50], Loss: 1.1309\n",
      "total:  30\n",
      "correct:  7\n",
      "accuracy:  0.23333333333333334\n",
      "Epoch [29/50], Loss: 1.1227\n",
      "Epoch [29/50], Loss: 1.1314\n",
      "total:  30\n",
      "correct:  7\n",
      "accuracy:  0.23333333333333334\n",
      "Epoch [30/50], Loss: 1.1185\n",
      "Epoch [30/50], Loss: 1.1264\n",
      "total:  30\n",
      "correct:  7\n",
      "accuracy:  0.23333333333333334\n",
      "Epoch [31/50], Loss: 1.1052\n",
      "Epoch [31/50], Loss: 1.1185\n",
      "total:  30\n",
      "correct:  8\n",
      "accuracy:  0.26666666666666666\n",
      "Epoch [32/50], Loss: 1.1090\n",
      "Epoch [32/50], Loss: 1.1157\n",
      "total:  30\n",
      "correct:  7\n",
      "accuracy:  0.23333333333333334\n",
      "Epoch [33/50], Loss: 1.0918\n",
      "Epoch [33/50], Loss: 1.1124\n",
      "total:  30\n",
      "correct:  7\n",
      "accuracy:  0.23333333333333334\n",
      "Epoch [34/50], Loss: 1.0938\n",
      "Epoch [34/50], Loss: 1.1189\n",
      "total:  30\n",
      "correct:  7\n",
      "accuracy:  0.23333333333333334\n",
      "Epoch [35/50], Loss: 1.0894\n",
      "Epoch [35/50], Loss: 1.1251\n",
      "total:  30\n",
      "correct:  7\n",
      "accuracy:  0.23333333333333334\n",
      "Epoch [36/50], Loss: 1.0949\n",
      "Epoch [36/50], Loss: 1.1269\n",
      "total:  30\n",
      "correct:  7\n",
      "accuracy:  0.23333333333333334\n",
      "Epoch [37/50], Loss: 1.0780\n",
      "Epoch [37/50], Loss: 1.1278\n",
      "total:  30\n",
      "correct:  7\n",
      "accuracy:  0.23333333333333334\n",
      "Epoch [38/50], Loss: 1.0879\n",
      "Epoch [38/50], Loss: 1.1358\n",
      "total:  30\n",
      "correct:  7\n",
      "accuracy:  0.23333333333333334\n",
      "Epoch [39/50], Loss: 1.1031\n",
      "Epoch [39/50], Loss: 1.1320\n",
      "total:  30\n",
      "correct:  7\n",
      "accuracy:  0.23333333333333334\n",
      "Epoch [40/50], Loss: 1.1199\n",
      "Epoch [40/50], Loss: 1.1222\n",
      "total:  30\n",
      "correct:  7\n",
      "accuracy:  0.23333333333333334\n",
      "Epoch [41/50], Loss: 1.1230\n",
      "Epoch [41/50], Loss: 1.1200\n",
      "total:  30\n",
      "correct:  7\n",
      "accuracy:  0.23333333333333334\n",
      "Epoch [42/50], Loss: 1.0973\n",
      "Epoch [42/50], Loss: 1.1152\n",
      "total:  30\n",
      "correct:  7\n",
      "accuracy:  0.23333333333333334\n",
      "Epoch [43/50], Loss: 1.0853\n",
      "Epoch [43/50], Loss: 1.1176\n",
      "total:  30\n",
      "correct:  7\n",
      "accuracy:  0.23333333333333334\n",
      "Epoch [44/50], Loss: 1.0907\n",
      "Epoch [44/50], Loss: 1.1230\n",
      "total:  30\n",
      "correct:  7\n",
      "accuracy:  0.23333333333333334\n",
      "Epoch [45/50], Loss: 1.0978\n",
      "Epoch [45/50], Loss: 1.1282\n",
      "total:  30\n",
      "correct:  7\n",
      "accuracy:  0.23333333333333334\n",
      "Epoch [46/50], Loss: 1.1067\n",
      "Epoch [46/50], Loss: 1.1264\n",
      "total:  30\n",
      "correct:  7\n",
      "accuracy:  0.23333333333333334\n",
      "Epoch [47/50], Loss: 1.0880\n",
      "Epoch [47/50], Loss: 1.1191\n",
      "total:  30\n",
      "correct:  7\n",
      "accuracy:  0.23333333333333334\n",
      "Epoch [48/50], Loss: 1.0876\n",
      "Epoch [48/50], Loss: 1.1270\n",
      "total:  30\n",
      "correct:  7\n",
      "accuracy:  0.23333333333333334\n",
      "Epoch [49/50], Loss: 1.0762\n",
      "Epoch [49/50], Loss: 1.1305\n",
      "total:  30\n",
      "correct:  7\n",
      "accuracy:  0.23333333333333334\n",
      "Epoch [50/50], Loss: 1.1001\n",
      "Epoch [50/50], Loss: 1.1310\n",
      "total:  30\n",
      "correct:  7\n",
      "accuracy:  0.23333333333333334\n"
     ]
    }
   ],
   "source": [
    "train_loss = []\n",
    "val_loss = []\n",
    "\n",
    "train_accuracy = []\n",
    "val_accuracy = []\n",
    "\n",
    "for epoch in range(num_epochs):\n",
    "    model.train()\n",
    "    total_train = 0\n",
    "    correct_train = 0\n",
    "    for i, (images, labels) in enumerate(train_loader):\n",
    "        outputs = model(images)\n",
    "        loss = criterion(outputs, labels)\n",
    "\n",
    "        optimizer.zero_grad()\n",
    "        loss.backward()\n",
    "        optimizer.step()\n",
    "\n",
    "        total_train += len(labels)\n",
    "        _, pred = torch.max(outputs.data, 1)\n",
    "        correct_train += (pred == labels).sum().item()\n",
    "        #for o in outputs:\n",
    "        #    print(o)\n",
    "\n",
    "        #print('Loss: {:.4f}'.format(epoch+1, loss.item())) \n",
    "        #print(outputs.shape)\n",
    "        #print(labels)\n",
    "    print(f'Epoch [{epoch + 1}/{num_epochs}], Loss: {loss.item():.4f}')\n",
    "    train_loss.append(loss.item())\n",
    "    train_accuracy.append(correct_train/total_train)\n",
    "\n",
    "\n",
    "    ##Eval\n",
    "    model.eval()\n",
    "    with torch.no_grad():\n",
    "        correct = 0\n",
    "        total = 0\n",
    "        for images, labels in val_loader:\n",
    "            outputs = model(images)\n",
    "            _, predicted = torch.max(outputs.data, 1)\n",
    "            total += len(labels)\n",
    "            correct += (predicted == labels).sum().item()\n",
    "            loss_v = criterion(outputs, labels)\n",
    "        val_loss.append(loss_v.item())\n",
    "        val_accuracy.append(correct/total)\n",
    "        print(f'Epoch [{epoch + 1}/{num_epochs}], Loss: {loss_v.item():.4f}')\n",
    "        print(\"total: \", total)\n",
    "        print(\"correct: \", correct)\n",
    "        print(\"accuracy: \", correct/total)"
   ]
  },
  {
   "cell_type": "markdown",
   "metadata": {},
   "source": [
    "# Plot Loss and Accuracy"
   ]
  },
  {
   "cell_type": "code",
   "execution_count": 288,
   "metadata": {},
   "outputs": [
    {
     "data": {
      "image/png": "[encoded data removed]",
      "text/plain": [
       "<Figure size 640x480 with 1 Axes>"
      ]
     },
     "metadata": {},
     "output_type": "display_data"
    }
   ],
   "source": [
    "import matplotlib.pyplot as plt\n",
    "plt.title(\"loss\")\n",
    "plt.plot(train_loss, label=\"train loss\")\n",
    "plt.plot(val_loss, label=\"val_loss\")\n",
    "plt.legend()\n",
    "plt.show()"
   ]
  },
  {
   "cell_type": "code",
   "execution_count": null,
   "metadata": {},
   "outputs": [],
   "source": [
    "plt.title(\"Accuracy\")\n",
    "plt.plot(train_accuracy, label=\"train accuracy\")\n",
    "plt.plot(val_accuracy, label=\"val accuracy\")\n",
    "plt.legend()\n",
    "plt.show()"
   ]
  },
  {
   "cell_type": "markdown",
   "metadata": {},
   "source": [
    "Eval"
   ]
  },
  {
   "cell_type": "code",
   "execution_count": 294,
   "metadata": {},
   "outputs": [
    {
     "name": "stdout",
     "output_type": "stream",
     "text": [
      "tensor([0, 2, 1, 2, 2, 1, 1, 2, 0, 0, 1, 2, 0, 1, 0, 0, 0, 2, 1, 0, 0, 2, 1, 1,\n",
      "        0, 1, 2, 0, 0, 1])\n",
      "tensor([0, 0, 1, 2, 2, 1, 1, 2, 2, 0, 1, 1, 2, 1, 0, 0, 0, 2, 1, 0, 0, 1, 1, 0,\n",
      "        2, 1, 2, 0, 2, 1])\n",
      "total:  30\n",
      "correct:  22\n",
      "accuracy:  0.7333333333333333\n"
     ]
    }
   ],
   "source": [
    "y_true = []\n",
    "y_pred = []\n",
    "\n",
    "with torch.no_grad():\n",
    "    correct = 0\n",
    "    total = 0\n",
    "    for images, labels in val_loader:\n",
    "        outputs = model(images)\n",
    "        _, predicted = torch.max(outputs.data, 1)\n",
    "        y_true.append(labels)\n",
    "        y_pred.append(predicted)\n",
    "        print(labels)\n",
    "        print(predicted)\n",
    "        total += len(labels)\n",
    "        correct += (predicted == labels).sum().item()\n",
    "    print(\"total: \", total)\n",
    "    print(\"correct: \", correct)\n",
    "    print(\"accuracy: \", correct/total)"
   ]
  },
  {
   "cell_type": "markdown",
   "metadata": {},
   "source": [
    "# Plot confussion matrix\n",
    "\n",
    "Here we want to make sure that we do not get any false negatives, only false positives.\n",
    "\n",
    "0: aca - adenocarcinoma (cancer) \\\n",
    "1: n - benign tissue (non-cancerous) \\\n",
    "2: scc - squamous cell carcinoma (cancer)"
   ]
  },
  {
   "cell_type": "code",
   "execution_count": 298,
   "metadata": {},
   "outputs": [
    {
     "name": "stdout",
     "output_type": "stream",
     "text": [
      "[tensor([0, 2, 1, 2, 2, 1, 1, 2, 0, 0, 1, 2, 0, 1, 0, 0, 0, 2, 1, 0, 0, 2, 1, 1,\n",
      "        0, 1, 2, 0, 0, 1])]\n",
      "[tensor([0, 0, 1, 2, 2, 1, 1, 2, 2, 0, 1, 1, 2, 1, 0, 0, 0, 2, 1, 0, 0, 1, 1, 0,\n",
      "        2, 1, 2, 0, 2, 1])]\n",
      "{'aca': 0, 'n': 1, 'scc': 2}\n"
     ]
    },
    {
     "data": {
      "image/png": "[encoded data removed]",
      "text/plain": [
       "<Figure size 640x480 with 2 Axes>"
      ]
     },
     "metadata": {},
     "output_type": "display_data"
    }
   ],
   "source": [
    "from sklearn.metrics import confusion_matrix, ConfusionMatrixDisplay\n",
    "print(y_true)\n",
    "print(y_pred)\n",
    "cm = confusion_matrix(y_true[0], y_pred[0])\n",
    "ConfusionMatrixDisplay(cm).plot()\n",
    "\n",
    "print(lung_dataset.class_to_idx)"
   ]
  },
  {
   "cell_type": "code",
   "execution_count": null,
   "metadata": {},
   "outputs": [],
   "source": []
  }
 ],
 "metadata": {
  "kernelspec": {
   "display_name": "bio-cpu",
   "language": "python",
   "name": "python3"
  },
  "language_info": {
   "codemirror_mode": {
    "name": "ipython",
    "version": 3
   },
   "file_extension": ".py",
   "mimetype": "text/x-python",
   "name": "python",
   "nbconvert_exporter": "python",
   "pygments_lexer": "ipython3",
   "version": "3.11.10"
  }
 },
 "nbformat": 4,
 "nbformat_minor": 2
}
